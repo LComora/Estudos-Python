{
  "cells": [
    {
      "cell_type": "markdown",
      "metadata": {
        "id": "view-in-github",
        "colab_type": "text"
      },
      "source": [
        "<a href=\"https://colab.research.google.com/github/LComora/Estudos-Python/blob/main/EstudoPython.ipynb\" target=\"_parent\"><img src=\"https://colab.research.google.com/assets/colab-badge.svg\" alt=\"Open In Colab\"/></a>"
      ]
    },
    {
      "cell_type": "code",
      "execution_count": null,
      "metadata": {
        "colab": {
          "base_uri": "https://localhost:8080/"
        },
        "id": "mPjXoS0GdWBy",
        "outputId": "03b717ab-7663-4385-bb85-cdad1e85f863"
      },
      "outputs": [
        {
          "name": "stdout",
          "output_type": "stream",
          "text": [
            "Lucas\n"
          ]
        }
      ],
      "source": [
        "nome = \"Lucas\"\n",
        "print(nome)"
      ]
    },
    {
      "cell_type": "code",
      "execution_count": null,
      "metadata": {
        "colab": {
          "base_uri": "https://localhost:8080/"
        },
        "id": "IF_LJHqsdz9n",
        "outputId": "954492b0-607c-4656-eb96-df28b459578d"
      },
      "outputs": [
        {
          "name": "stdout",
          "output_type": "stream",
          "text": [
            "Qual é o valor de A? 456\n",
            "Qual é o valor de B? 78\n",
            "Qual é o valor de C? 3\n",
            "As raízes da equação são -0.05840062088409434 e -0.11265201069485302\n"
          ]
        }
      ],
      "source": [
        "import math\n",
        "\n",
        "a = int(input(\"Qual é o valor de A? \"))\n",
        "b = int(input(\"Qual é o valor de B? \"))\n",
        "c = int(input(\"Qual é o valor de C? \"))\n",
        "\n",
        "Delta = (b**2 - 4*a*c)\n",
        "\n",
        "if (Delta > 0):\n",
        "\n",
        "     xUm = (-b + math.sqrt(Delta)) / (2*a)\n",
        "     xDois = (-b - math.sqrt(Delta)) / (2*a)\n",
        "     \n",
        "     print(\"As raízes da equação são\",xUm,\"e\",xDois)\n",
        "\n",
        "elif (Delta == 0):\n",
        "\n",
        "     x = (-b / 2*a)\n",
        "     print(\"A raiz dessa equação é\",x)\n",
        "\n",
        "if Delta < 0:\n",
        "     print(\"Essa equação não possui valores reais\")"
      ]
    },
    {
      "cell_type": "code",
      "execution_count": null,
      "metadata": {
        "id": "jd3Tt8nl2W_S"
      },
      "outputs": [],
      "source": [
        "import math\n",
        "\n",
        "a = int(input(\"Qual é o valor de A? \"))\n",
        "b = int(input(\"Qual é o valor de B? \"))\n",
        "c = int(input(\"Qual é o valor de C? \"))\n",
        "\n",
        "Delta = (b**2 - 4*a*c)\n",
        "\n",
        "if (Delta > 0):\n",
        "\n",
        "     xUm = (-b + math.sqrt(Delta)) / (2*a)\n",
        "     xDois = (-b - math.sqrt(Delta)) / (2*a)\n",
        "     \n",
        "     print(\"As raízes da equação são\",xUm,\"e\",xDois)\n",
        "\n",
        "elif (Delta == 0):\n",
        "\n",
        "     x = (-b / 2*a)\n",
        "     print(\"A raiz dessa equação é\",x)\n",
        "\n",
        "if Delta < 0:\n",
        "     print(\"Essa equação não possui valores reais\")"
      ]
    },
    {
      "cell_type": "code",
      "execution_count": null,
      "metadata": {
        "colab": {
          "base_uri": "https://localhost:8080/"
        },
        "id": "sPUCRN-73h-Z",
        "outputId": "9172abf5-1c9b-447f-c803-ce7ddc8e2c54"
      },
      "outputs": [
        {
          "name": "stdout",
          "output_type": "stream",
          "text": [
            "Digite um número: 45\n",
            "fizz\n"
          ]
        }
      ],
      "source": [
        "numero = int(input(\"Digite um número: \"))\n",
        "resultado = numero % 3 \n",
        "\n",
        "if resultado == 0:\n",
        "  print(\"fizz\")\n",
        "else :\n",
        "  print(numero)\n"
      ]
    },
    {
      "cell_type": "code",
      "execution_count": null,
      "metadata": {
        "colab": {
          "base_uri": "https://localhost:8080/"
        },
        "id": "6NjrlMEpB6Sn",
        "outputId": "a9754646-fcb5-4100-f9c1-a16437ee6ef8"
      },
      "outputs": [
        {
          "name": "stdout",
          "output_type": "stream",
          "text": [
            "Digite um número: 4654875\n",
            "Buzz\n"
          ]
        }
      ],
      "source": [
        "numero = int(input(\"Digite um número: \"))\n",
        "resultado = numero % 5 \n",
        "\n",
        "if resultado == 0:\n",
        "  print(\"Buzz\")\n",
        "  if resultado == 5:\n",
        "    print(\"Buzz\")\n",
        "else :\n",
        "  print(numero)\n"
      ]
    },
    {
      "cell_type": "code",
      "execution_count": null,
      "metadata": {
        "colab": {
          "base_uri": "https://localhost:8080/"
        },
        "id": "bhZYX2JGEasW",
        "outputId": "1784a6f8-af26-441e-aefe-5692ffbd4f25"
      },
      "outputs": [
        {
          "name": "stdout",
          "output_type": "stream",
          "text": [
            "Digite um número: 654498745\n",
            "FizzBuzz\n"
          ]
        }
      ],
      "source": [
        "numero = int(input(\"Digite um número: \"))\n",
        "\n",
        "\n",
        "if numero % 5 == 0 and 5:\n",
        "  print(\"FizzBuzz\")\n",
        "elif numero % 3 == 0:\n",
        "  print(\"FizzBuzz\")\n",
        "  \n",
        "else :\n",
        "  print(numero)"
      ]
    },
    {
      "cell_type": "code",
      "execution_count": null,
      "metadata": {
        "id": "VlAL9d8aOGP5"
      },
      "outputs": [],
      "source": [
        ""
      ]
    },
    {
      "cell_type": "code",
      "execution_count": null,
      "metadata": {
        "colab": {
          "base_uri": "https://localhost:8080/"
        },
        "id": "hnLg08j_psKm",
        "outputId": "d169ad9c-ff4e-4f7e-f26b-003d13116fae"
      },
      "outputs": [
        {
          "name": "stdout",
          "output_type": "stream",
          "text": [
            "[1, 3, 4, 5]\n"
          ]
        }
      ],
      "source": [
        "num_list = [1,2,3,4,5]\n",
        "num_list.remove(2)\n",
        "print(num_list)"
      ]
    },
    {
      "cell_type": "code",
      "execution_count": null,
      "metadata": {
        "colab": {
          "base_uri": "https://localhost:8080/"
        },
        "id": "W7s4AFQQHIin",
        "outputId": "87dbd4b9-6be5-4b4d-bbb2-1ee484cebc97"
      },
      "outputs": [
        {
          "name": "stdout",
          "output_type": "stream",
          "text": [
            "Digite um número: 5\n",
            "Digite um número: 10\n",
            "Digite um número: 6\n",
            "11\n"
          ]
        }
      ],
      "source": [
        "a = int(input(\"Digite um número: \"))\n",
        "b = int(input(\"Digite um número: \"))\n",
        "c = int(input(\"Digite um número: \"))\n",
        "\n",
        "if a>b:\n",
        "  while b<a:\n",
        "    b=b+1\n",
        "else :\n",
        "  b = a+c\n",
        "\n",
        "print(b)\n",
        "\n",
        "\n"
      ]
    },
    {
      "cell_type": "code",
      "execution_count": null,
      "metadata": {
        "colab": {
          "base_uri": "https://localhost:8080/"
        },
        "id": "oNQhS9BcqybO",
        "outputId": "e3913268-8ed2-4691-96c4-c82a55a2a31d"
      },
      "outputs": [
        {
          "name": "stdout",
          "output_type": "stream",
          "text": [
            "qual o valor? 258\n",
            "wrong\n"
          ]
        }
      ],
      "source": [
        "i = int(input(\"qual o valor? \"))\n",
        "\n",
        "while i<=20:\n",
        "  print(2**i)\n",
        "  i = i + 1\n",
        "else :\n",
        "  print(\"wrong\")"
      ]
    },
    {
      "cell_type": "code",
      "execution_count": null,
      "metadata": {
        "colab": {
          "base_uri": "https://localhost:8080/"
        },
        "id": "t1yGWtjysU25",
        "outputId": "4d7163fb-815d-4be0-fdf6-8cef98fef68a"
      },
      "outputs": [
        {
          "name": "stdout",
          "output_type": "stream",
          "text": [
            "digite uma sequência de valores terminada por zero.\n",
            "digite um valor a ser somado: 12\n",
            "digite um valor a ser somado: 12\n",
            "digite um valor a ser somado: 12\n",
            "digite um valor a ser somado: 21\n",
            "digite um valor a ser somado: 21\n",
            "digite um valor a ser somado: 21\n",
            "digite um valor a ser somado: 54\n",
            "digite um valor a ser somado: 45\n",
            "digite um valor a ser somado: 54\n",
            "digite um valor a ser somado: 54\n",
            "digite um valor a ser somado: 898\n",
            "digite um valor a ser somado: 787\n",
            "digite um valor a ser somado: 65465\n",
            "digite um valor a ser somado: 65465\n",
            "digite um valor a ser somado: 6545\n",
            "digite um valor a ser somado: 454\n",
            "digite um valor a ser somado: 450\n",
            "digite um valor a ser somado: 0\n",
            "a soma dos valores digitados é:  140370\n"
          ]
        }
      ],
      "source": [
        "\n",
        "print(\"digite uma sequência de valores terminada por zero.\")\n",
        "soma = 0\n",
        "\n",
        "valor = 1\n",
        "while valor != 0:\n",
        "    valor = int(input(\"digite um valor a ser somado: \"))\n",
        "    soma = soma + valor\n",
        "print(\"a soma dos valores digitados é: \", soma)"
      ]
    },
    {
      "cell_type": "code",
      "execution_count": null,
      "metadata": {
        "colab": {
          "base_uri": "https://localhost:8080/"
        },
        "id": "vOvR_HVhuDmE",
        "outputId": "59815690-980d-464c-d6e3-6cc34d98ae32"
      },
      "outputs": [
        {
          "name": "stdout",
          "output_type": "stream",
          "text": [
            "Digite o tamanho da sequência de números: 5\n",
            "Digite um valor a ser multiplicado: 1\n",
            "Digite um valor a ser multiplicado: 2\n",
            "Digite um valor a ser multiplicado: 3\n",
            "Digite um valor a ser multiplicado: 2\n",
            "Digite um valor a ser multiplicado: 2\n",
            "O produto dos valores digitados é:  24\n"
          ]
        }
      ],
      "source": [
        "tamanho = int(input(\"Digite o tamanho da sequência de números: \"))\n",
        "\n",
        "produto = 1\n",
        "i = 0\n",
        "\n",
        "while i<tamanho:\n",
        "    valor = int(input(\"Digite um valor a ser multiplicado: \"))\n",
        "    produto = produto * valor\n",
        "    i = i + 1\n",
        "\n",
        "print(\"O produto dos valores digitados é: \", produto)"
      ]
    },
    {
      "cell_type": "code",
      "execution_count": null,
      "metadata": {
        "colab": {
          "base_uri": "https://localhost:8080/"
        },
        "id": "pzz08htVvt0Y",
        "outputId": "2b460ce0-f579-4561-ae47-cba74b7996cb"
      },
      "outputs": [
        {
          "name": "stdout",
          "output_type": "stream",
          "text": [
            "Digite um número: 45\n",
            "9\n"
          ]
        }
      ],
      "source": [
        "n = input(\"Digite um número: \")\n",
        "\n",
        "print(sum(int(i) for i in n))"
      ]
    },
    {
      "cell_type": "code",
      "execution_count": null,
      "metadata": {
        "colab": {
          "base_uri": "https://localhost:8080/"
        },
        "id": "lFboQ3Et_e90",
        "outputId": "ab74ddc8-95bb-4e5a-d62f-2cdf50d9cead"
      },
      "outputs": [
        {
          "name": "stdout",
          "output_type": "stream",
          "text": [
            "Digite um número: 45\n",
            "O resultado é:  9\n"
          ]
        }
      ],
      "source": [
        "numero = int(input(\"Digite um número: \"))\n",
        "if numero > 0:\n",
        "  soma = 0\n",
        "  while numero != 0:\n",
        "    resto = numero % 10\n",
        "    numero = (numero - resto) // 10\n",
        "    soma = soma + resto\n",
        "  print(\"O resultado é: \", soma)\n",
        "else:\n",
        "  print(\"número inválido\")\n",
        "\n",
        "\n"
      ]
    },
    {
      "cell_type": "code",
      "execution_count": null,
      "metadata": {
        "colab": {
          "base_uri": "https://localhost:8080/"
        },
        "id": "XKrqzyEzHl6q",
        "outputId": "157441e4-224a-47e3-da26-f91dfcb27ee9"
      },
      "outputs": [
        {
          "name": "stdout",
          "output_type": "stream",
          "text": [
            "3\n",
            "0\n"
          ]
        }
      ],
      "source": [
        "i = 6\n",
        "while (i>0):\n",
        "  i = i - 3\n",
        "  print(i)"
      ]
    },
    {
      "cell_type": "code",
      "execution_count": null,
      "metadata": {
        "colab": {
          "base_uri": "https://localhost:8080/"
        },
        "id": "sqorPN8L4k3s",
        "outputId": "74431d51-0a7c-43bf-ead7-0d0f4001b3fd"
      },
      "outputs": [
        {
          "name": "stdout",
          "output_type": "stream",
          "text": [
            "Digite o primeiro número da sequência: 9\n",
            "Digite o próximo número da sequência: 8\n",
            "Digite o próximo número da sequência: 6\n",
            "Digite o próximo número da sequência: 3\n",
            "Digite o próximo número da sequência: 2\n",
            "Digite o próximo número da sequência: 0\n",
            "A sequência está em ordem decrescente! :)\n"
          ]
        }
      ],
      "source": [
        "decrescente = True\n",
        "anterior = int(input(\"Digite o primeiro número da sequência: \"))\n",
        "\n",
        "valor = 1\n",
        "\n",
        "while valor != 0 and decrescente: \n",
        "  valor = int(input(\"Digite o próximo número da sequência: \"))\n",
        "  if valor > anterior:\n",
        "    decrescente = False\n",
        "  anterior = valor\n",
        "\n",
        "if decrescente: \n",
        "  print(\"A sequência está em ordem decrescente! :)\")\n",
        "else:\n",
        "  print(\"A sequência não está em ordem decrescente :(\")"
      ]
    },
    {
      "cell_type": "code",
      "execution_count": null,
      "metadata": {
        "colab": {
          "base_uri": "https://localhost:8080/"
        },
        "id": "MAWg1GVD_ztu",
        "outputId": "a9aed658-82de-461d-d14e-941a413d7e3a"
      },
      "outputs": [
        {
          "name": "stdout",
          "output_type": "stream",
          "text": [
            "Digite o número do seu cartão de crédito: 2424\n",
            "Digite o número do próximo cartão de crédito: 4565464987\n",
            "Digite o número do próximo cartão de crédito: 4654654987\n",
            "Digite o número do próximo cartão de crédito: 32131654654\n",
            "Digite o número do próximo cartão de crédito: 2424\n",
            "EBA!! Meu cartão está lá!\n"
          ]
        }
      ],
      "source": [
        "meuCartão = int(input(\"Digite o número do seu cartão de crédito: \"))\n",
        "\n",
        "cartãoLido = 1\n",
        "encontreiMeuCartãoNaLista = False\n",
        "5\n",
        "while cartãoLido != 0 and not encontreiMeuCartãoNaLista: \n",
        "    cartãoLido = int(input(\"Digite o número do próximo cartão de crédito: \"))\n",
        "    if cartãoLido == meuCartão:\n",
        "      encontreiMeuCartãoNaLista = True\n",
        "\n",
        "if encontreiMeuCartãoNaLista:\n",
        "  print(\"EBA!! Meu cartão está lá!\")\n",
        "else :\n",
        "  print(\"Xi, meu cartão não está lá!\")"
      ]
    },
    {
      "cell_type": "code",
      "execution_count": null,
      "metadata": {
        "colab": {
          "base_uri": "https://localhost:8080/"
        },
        "id": "ft_hj9TWBf9O",
        "outputId": "2482e3cb-013e-4df5-b584-18df72671063"
      },
      "outputs": [
        {
          "name": "stdout",
          "output_type": "stream",
          "text": [
            "Digite um número: 654987\n",
            "654987 não tem digitos iguais adjacentes\n"
          ]
        }
      ],
      "source": [
        "número = n = int(input(\"Digite um número: \"))\n",
        "\n",
        "anterior = n % 10\n",
        "n = n //10 \n",
        "adj = False\n",
        "pos = 0\n",
        "\n",
        "while n > 0 and not adj: \n",
        "  atual = n % 10\n",
        "  if atual == anterior:\n",
        "    adj = True \n",
        "  else:\n",
        "    pos += 1\n",
        "  anterior = atual \n",
        "  n = n // 10\n",
        "\n",
        "if adj:\n",
        "  print(número,\"tem dois digitos\", atual, \"adjacentes\")\n",
        "else:\n",
        "  print(número,\"não tem digitos iguais adjacentes\")"
      ]
    },
    {
      "cell_type": "code",
      "execution_count": null,
      "metadata": {
        "colab": {
          "base_uri": "https://localhost:8080/"
        },
        "id": "NzPwKyQekBdZ",
        "outputId": "6dcecdbe-c89b-40b1-d7c1-fe70efe63853"
      },
      "outputs": [
        {
          "name": "stdout",
          "output_type": "stream",
          "text": [
            "9\n",
            "7\n",
            "5\n",
            "3\n",
            "1\n"
          ]
        }
      ],
      "source": [
        "x = 10\n",
        "while not (x == 0):\n",
        "    x = x-1\n",
        "    if x % 2 != 0: \n",
        "      print (x)"
      ]
    },
    {
      "cell_type": "code",
      "execution_count": null,
      "metadata": {
        "id": "6-WKMCwif_4O"
      },
      "outputs": [],
      "source": [
        ""
      ]
    },
    {
      "cell_type": "code",
      "execution_count": null,
      "metadata": {
        "colab": {
          "base_uri": "https://localhost:8080/"
        },
        "id": "TaGEuJf6kUc5",
        "outputId": "cc0382d6-b5ca-4c6c-ecaf-ff6e877be79d"
      },
      "outputs": [
        {
          "name": "stdout",
          "output_type": "stream",
          "text": [
            "Digite um número, ou zero para terminar: 2\n",
            "Digite um número, ou zero para terminar: 6\n",
            "Digite um número, ou zero para terminar: 1\n",
            "Digite um número, ou zero para terminar: 0\n",
            "P =  2\n",
            "I =  1\n"
          ]
        }
      ],
      "source": [
        "terminou = False\n",
        "p = i = 0\n",
        "while (not terminou):\n",
        "    n = int(input(\"Digite um número, ou zero para terminar: \"))\n",
        "    if n == 0:\n",
        "        terminou = True\n",
        "    else:\n",
        "        if n % 2 == 0:\n",
        "            p = p + 1\n",
        "        else:\n",
        "            i = i + 1\n",
        "\n",
        "print (\"P = \", p)\n",
        "print (\"I = \", i)"
      ]
    },
    {
      "cell_type": "code",
      "execution_count": null,
      "metadata": {
        "colab": {
          "base_uri": "https://localhost:8080/"
        },
        "id": "qpQTVsPBxfNE",
        "outputId": "635c576a-c7ec-49e0-a55e-9425b2f262aa"
      },
      "outputs": [
        {
          "name": "stdout",
          "output_type": "stream",
          "text": [
            "Digite um número para calcular seu Fatorial: 5\n",
            "120\n"
          ]
        }
      ],
      "source": [
        "n = int(input(\"Digite um número para calcular seu Fatorial: \"))\n",
        "f = 1\n",
        "\n",
        "while n > 0:\n",
        "  \n",
        "  f = f*n\n",
        "  \n",
        "  n = n-1\n",
        "print(f)"
      ]
    },
    {
      "cell_type": "code",
      "execution_count": null,
      "metadata": {
        "colab": {
          "base_uri": "https://localhost:8080/"
        },
        "id": "L6r3UkbQ6xrh",
        "outputId": "851e7250-0f5c-4ba9-d71b-ebb17a0c0ebc"
      },
      "outputs": [
        {
          "name": "stdout",
          "output_type": "stream",
          "text": [
            "Digite um número: 5\n",
            "120\n"
          ]
        }
      ],
      "source": [
        "import math\n",
        "\n",
        "n = int(input(\"Digite um número: \"))\n",
        "print(math.factorial(n))\n",
        "\n"
      ]
    },
    {
      "cell_type": "code",
      "execution_count": null,
      "metadata": {
        "colab": {
          "base_uri": "https://localhost:8080/"
        },
        "id": "he34-7Ov8dAY",
        "outputId": "009c7cde-8d6c-4e67-aaca-8ca691ff8f76"
      },
      "outputs": [
        {
          "name": "stdout",
          "output_type": "stream",
          "text": [
            "Digite um número inteiro: 5\n",
            "3\n",
            "1\n"
          ]
        }
      ],
      "source": [
        "x = int(input(\"Digite um número inteiro: \"))\n",
        "while not (x == 0):\n",
        "    x = x-1\n",
        "    if x % 2 != 0: \n",
        "      print (x)"
      ]
    },
    {
      "cell_type": "code",
      "execution_count": null,
      "metadata": {
        "colab": {
          "base_uri": "https://localhost:8080/"
        },
        "id": "LHDsmooiLUoJ",
        "outputId": "9bb18638-b1fa-4b90-ee85-2f03d3a2c521"
      },
      "outputs": [
        {
          "name": "stdout",
          "output_type": "stream",
          "text": [
            "Digite o valor de n: 19\n",
            "1\n",
            "3\n",
            "5\n",
            "7\n",
            "9\n",
            "11\n",
            "13\n",
            "15\n",
            "17\n",
            "19\n"
          ]
        }
      ],
      "source": [
        "n = int(input(\"Digite o valor de n: \"))\n",
        "for i in range(1, n+2, 2):\n",
        "   print(i)"
      ]
    },
    {
      "cell_type": "code",
      "execution_count": null,
      "metadata": {
        "colab": {
          "base_uri": "https://localhost:8080/"
        },
        "id": "gcFf0t1FTuX8",
        "outputId": "2da5b0ce-dcc6-428a-8735-32b61d10710e"
      },
      "outputs": [
        {
          "name": "stdout",
          "output_type": "stream",
          "text": [
            "Digite o valor de n: 5\n",
            "1\n",
            "3\n",
            "5\n",
            "7\n",
            "9\n"
          ]
        }
      ],
      "source": [
        "n = int(input(\"Digite o valor de n: \"))\n",
        "\n",
        "i = 0\n",
        "ímpar = 1\n",
        "\n",
        "while i < n: \n",
        "  print(ímpar)\n",
        "  i = i + 1\n",
        "  ímpar = ímpar + 2"
      ]
    },
    {
      "cell_type": "code",
      "execution_count": null,
      "metadata": {
        "colab": {
          "base_uri": "https://localhost:8080/"
        },
        "id": "fk1KLSacjer-",
        "outputId": "235bf995-d92a-4875-fa42-b51b5ae53581"
      },
      "outputs": [
        {
          "name": "stdout",
          "output_type": "stream",
          "text": [
            "Digite um número: 23\n",
            "5\n"
          ]
        }
      ],
      "source": [
        "numero = int(input(\"Digite um número: \"))\n",
        "if numero > 0:\n",
        "  soma = 0\n",
        "  while numero != 0:\n",
        "    resto = numero % 10\n",
        "    numero = (numero - resto) // 10\n",
        "    soma = soma + resto\n",
        "  \n",
        "  print(soma)\n",
        "\n",
        "else :\n",
        "  x = 0\n",
        "  print(x)\n"
      ]
    },
    {
      "cell_type": "code",
      "execution_count": null,
      "metadata": {
        "colab": {
          "base_uri": "https://localhost:8080/"
        },
        "id": "iXLFJAe4l1rx",
        "outputId": "36360ee8-31a1-4eea-c95f-3d31bd2d8aba"
      },
      "outputs": [
        {
          "name": "stdout",
          "output_type": "stream",
          "text": [
            "Digite um número inteiro: -11\n",
            "não primo\n"
          ]
        }
      ],
      "source": [
        "n = int(input(\"Digite um número inteiro: \"))\n",
        "\n",
        "if n > 1:\n",
        "    for i in range(2, n):\n",
        "        if n % i == 0:\n",
        "            print('não primo')\n",
        "            break\n",
        "    else:\n",
        "        print('primo')\n",
        "elif n == 0:\n",
        "    print('não primo')\n",
        "elif n == 1:\n",
        "    print('não primo')\n",
        "else:\n",
        "    print('não primo')\n",
        "\n",
        "\n",
        "\n",
        "\n"
      ]
    },
    {
      "cell_type": "code",
      "execution_count": null,
      "metadata": {
        "colab": {
          "base_uri": "https://localhost:8080/"
        },
        "id": "ftE9TqgzCpQg",
        "outputId": "5cac63fc-30ed-473b-c4a9-514452624826"
      },
      "outputs": [
        {
          "name": "stdout",
          "output_type": "stream",
          "text": [
            "O valor calculado é 30\n"
          ]
        }
      ],
      "source": [
        "def  soma (x, y, z): \n",
        "  return x + y + z\n",
        "\n",
        "def multiplica (x, y, z):\n",
        "  return x * y * z\n",
        "\n",
        "def nome_do_seu_time ():\n",
        "  return \"SPFC\"\n",
        "\n",
        "def quieta():\n",
        "  x = 10+20\n",
        "  print(\"O valor calculado é\", x)\n",
        "\n",
        "quieta()\n",
        "\n",
        "\n"
      ]
    },
    {
      "cell_type": "code",
      "execution_count": null,
      "metadata": {
        "colab": {
          "base_uri": "https://localhost:8080/"
        },
        "id": "z2aeJgXDFv03",
        "outputId": "3689ee45-fcf6-4514-908c-4ba10c761350"
      },
      "outputs": [
        {
          "data": {
            "text/plain": [
              "184756.0"
            ]
          },
          "execution_count": 13,
          "metadata": {},
          "output_type": "execute_result"
        }
      ],
      "source": [
        "def fatorial (n):\n",
        "      f = 1\n",
        "      while (n > 1):\n",
        "        f = f * n\n",
        "        n = n - 1\n",
        "        if n < 0:\n",
        "          print(\"Digite um número maior que zero\")\n",
        "      return f\n",
        "\n",
        "def numero_binomial(n, k):\n",
        "  return fatorial(n) / (fatorial(k) * fatorial(n-k))\n",
        "\n",
        "\n",
        "def testa_fatorial ():\n",
        "  if fatorial (1) == 1:\n",
        "    print(\"Funciona para 1\")\n",
        "  else:\n",
        "    print(\"Não funciona para 1\")\n",
        "  if fatorial (2) == 2:\n",
        "    print(\"Funciona para 2\")\n",
        "  else:\n",
        "    print(\"Não funciona para 2\")\n",
        "  if fatorial (0) == 1:\n",
        "    print(\"Funciona para 0\")\n",
        "  else:\n",
        "    print(\"Não funciona para 0\")\n",
        "  if fatorial (5) == 120:\n",
        "    print(\"Funciona para 5\")\n",
        "  else:\n",
        "    print(\"Não funciona para 5\")\n",
        "\n",
        "numero_binomial(20, 10)\n",
        "\n"
      ]
    },
    {
      "cell_type": "code",
      "execution_count": null,
      "metadata": {
        "colab": {
          "base_uri": "https://localhost:8080/"
        },
        "id": "DohmlNdr9HNk",
        "outputId": "5437e5fb-2e43-402e-b631-46dc58d3efb8"
      },
      "outputs": [
        {
          "data": {
            "text/plain": [
              "10"
            ]
          },
          "execution_count": 66,
          "metadata": {},
          "output_type": "execute_result"
        }
      ],
      "source": [
        "def maximo (a, b, c):\n",
        "  if a >= b >= c or a >= c >= b:\n",
        "    return a\n",
        "  elif c >= b >= a or c >= a >= b:\n",
        "    return c\n",
        "  elif b >= c >= a or b >= a >= c:\n",
        "    return b\n",
        "  else:\n",
        "    return a\n",
        "\n",
        "\n",
        "\n",
        "\n",
        "\n",
        "\n",
        "      "
      ]
    },
    {
      "cell_type": "code",
      "execution_count": null,
      "metadata": {
        "colab": {
          "base_uri": "https://localhost:8080/",
          "height": 235
        },
        "id": "b1geNBxPFp0g",
        "outputId": "49582e7d-8421-41aa-f492-ca03e6650a8d"
      },
      "outputs": [
        {
          "ename": "NameError",
          "evalue": "ignored",
          "output_type": "error",
          "traceback": [
            "\u001b[0;31m---------------------------------------------------------------------------\u001b[0m",
            "\u001b[0;31mNameError\u001b[0m                                 Traceback (most recent call last)",
            "\u001b[0;32m<ipython-input-30-38bf63a42f68>\u001b[0m in \u001b[0;36m<module>\u001b[0;34m()\u001b[0m\n\u001b[1;32m      9\u001b[0m     \u001b[0;32mreturn\u001b[0m \u001b[0;32mTrue\u001b[0m\u001b[0;34m\u001b[0m\u001b[0;34m\u001b[0m\u001b[0m\n\u001b[1;32m     10\u001b[0m \u001b[0;34m\u001b[0m\u001b[0m\n\u001b[0;32m---> 11\u001b[0;31m \u001b[0;32mfor\u001b[0m \u001b[0mn\u001b[0m \u001b[0;32min\u001b[0m \u001b[0mrange\u001b[0m\u001b[0;34m(\u001b[0m \u001b[0mnum\u001b[0m\u001b[0;34m,\u001b[0m \u001b[0;36m0\u001b[0m\u001b[0;34m,\u001b[0m \u001b[0;34m-\u001b[0m\u001b[0;36m1\u001b[0m \u001b[0;34m)\u001b[0m\u001b[0;34m:\u001b[0m\u001b[0;34m\u001b[0m\u001b[0;34m\u001b[0m\u001b[0m\n\u001b[0m\u001b[1;32m     12\u001b[0m     \u001b[0;32mif\u001b[0m \u001b[0mehPrimo\u001b[0m\u001b[0;34m(\u001b[0m\u001b[0mn\u001b[0m\u001b[0;34m)\u001b[0m\u001b[0;34m:\u001b[0m\u001b[0;34m\u001b[0m\u001b[0;34m\u001b[0m\u001b[0m\n\u001b[1;32m     13\u001b[0m         \u001b[0mprint\u001b[0m\u001b[0;34m(\u001b[0m\u001b[0mn\u001b[0m\u001b[0;34m)\u001b[0m\u001b[0;34m\u001b[0m\u001b[0;34m\u001b[0m\u001b[0m\n",
            "\u001b[0;31mNameError\u001b[0m: name 'num' is not defined"
          ]
        }
      ],
      "source": [
        "def ehPrimo(x):\n",
        "    if x >= 2:\n",
        "        for y in range( 2, x ):\n",
        "            if not ( x % y ):\n",
        "                return False\n",
        "    else:\n",
        "        return False\n",
        "\n",
        "    return True\n",
        "\n",
        "for n in range( num, 0, -1 ):\n",
        "    if ehPrimo(n):\n",
        "        print(n)\n",
        "        break\n",
        "ehPrimo(100)"
      ]
    },
    {
      "cell_type": "code",
      "execution_count": null,
      "metadata": {
        "colab": {
          "base_uri": "https://localhost:8080/"
        },
        "id": "cRmxYTiqKzrz",
        "outputId": "71ad2666-8a69-4ced-f1b7-0b2e5ef57c48"
      },
      "outputs": [
        {
          "data": {
            "text/plain": [
              "True"
            ]
          },
          "execution_count": 21,
          "metadata": {},
          "output_type": "execute_result"
        }
      ],
      "source": [
        "def vogal(x):\n",
        "    if x == \"a\" or x == \"e\" or x == \"i\" or x == \"o\" or x == \"u\" or x== \"A\" or x == \"E\" or x == \"I\" or x == \"O\" or x == \"U\":\n",
        "        return True\n",
        "    else:\n",
        "        return False\n",
        "\n"
      ]
    },
    {
      "cell_type": "code",
      "execution_count": null,
      "metadata": {
        "colab": {
          "base_uri": "https://localhost:8080/"
        },
        "id": "eVK5OUxA_JHU",
        "outputId": "9f4d6620-29eb-435f-fa82-c512078917d9"
      },
      "outputs": [
        {
          "data": {
            "text/plain": [
              "97"
            ]
          },
          "execution_count": 23,
          "metadata": {},
          "output_type": "execute_result"
        }
      ],
      "source": [
        "def maior_primo(n):\n",
        "    for num in reversed(range(1,n+1)):\n",
        "        if all(num%i!=0 for i in range(2,num)):\n",
        "            return num\n",
        "maior_primo(30)\n"
      ]
    },
    {
      "cell_type": "code",
      "execution_count": null,
      "metadata": {
        "colab": {
          "base_uri": "https://localhost:8080/",
          "height": 35
        },
        "id": "XZrnuNnhCzTR",
        "outputId": "3fd7f0db-5a53-4efc-8958-8dbc9626ac57"
      },
      "outputs": [
        {
          "data": {
            "application/vnd.google.colaboratory.intrinsic+json": {
              "type": "string"
            },
            "text/plain": [
              "'Buzz'"
            ]
          },
          "execution_count": 46,
          "metadata": {},
          "output_type": "execute_result"
        }
      ],
      "source": [
        "def fizzbuzz(numero):\n",
        "  if numero % 5 == 0 and numero % 3 == 0:\n",
        "    return \"FizzBuzz\"\n",
        "  elif numero % 3 == 0:\n",
        "    return \"Fizz\"\n",
        "  elif numero % 5 == 0:\n",
        "    return \"Buzz\"\n",
        "  else:\n",
        "    return numero\n",
        "\n"
      ]
    },
    {
      "cell_type": "code",
      "execution_count": null,
      "metadata": {
        "colab": {
          "base_uri": "https://localhost:8080/"
        },
        "id": "jZfYzaqo6XMe",
        "outputId": "f78f9067-58b5-4e91-f7d8-40af0dd1fecc"
      },
      "outputs": [
        {
          "name": "stdout",
          "output_type": "stream",
          "text": [
            "120\n"
          ]
        }
      ],
      "source": [
        "def fatorial (n):\n",
        "    if n < 0:\n",
        "        return 0\n",
        "    i = fat = 1\n",
        "    while i <= n:\n",
        "        fat = fat * i\n",
        "        i = i + 1\n",
        "    return fat \n",
        "\n",
        "def maximo (x, y):\n",
        "  if fatorial (x) > fatorial (y):\n",
        "    print(fatorial (x))\n",
        "  elif fatorial (y) > fatorial (x):\n",
        "    print(fatorial (y))\n",
        "  \n",
        "maximo (5, 4)"
      ]
    },
    {
      "cell_type": "code",
      "execution_count": null,
      "metadata": {
        "id": "KM5Pc9SwOJ2B"
      },
      "outputs": [],
      "source": [
        "def computador_escolhe_jogada(n, m):\n",
        "    computadorRemove = 1\n",
        "\n",
        "    while computadorRemove != m:\n",
        "        if (n - computadorRemove) % (m+1) == 0:\n",
        "            return computadorRemove\n",
        "\n",
        "        else:\n",
        "            computadorRemove += 1\n",
        "\n",
        "    return computadorRemove\n",
        "\n",
        "\n",
        "def usuario_escolhe_jogada(n, m):\n",
        "    jogadaValida = False\n",
        "\n",
        "    while not jogadaValida:\n",
        "        jogadorRemove = int(input('Quantas peças você vai tirar? '))\n",
        "        if jogadorRemove > m or jogadorRemove < 1:\n",
        "            print()\n",
        "            print('Oops! Jogada inválida! Tente de novo.')\n",
        "            print()\n",
        "\n",
        "        else:\n",
        "            jogadaValida = True\n",
        "\n",
        "    return jogadorRemove\n",
        "\n",
        "\n",
        "def campeonato():\n",
        "    numeroRodada = 1\n",
        "    while numeroRodada <= 3:\n",
        "        print()\n",
        "        print('**** Rodada', numeroRodada, '****')\n",
        "        print()\n",
        "        partida()\n",
        "        numeroRodada += 1\n",
        "    print()\n",
        "    print('Placar: Você 0 X 3 Computador')\n",
        "\n",
        "\n",
        "def partida():\n",
        "    n = int(input('Quantas peças? '))\n",
        "\n",
        "    m = int(input('Limite de peças por jogada? '))\n",
        "\n",
        "    vezDoPC = False\n",
        "\n",
        "    if n % (m+1) == 0:\n",
        "        print()\n",
        "        print('Voce começa!')\n",
        "\n",
        "    else:\n",
        "        print()\n",
        "        print('Computador começa!')\n",
        "        vezDoPC = True\n",
        "\n",
        "    while n > 0:\n",
        "        if vezDoPC:\n",
        "            computadorRemove = computador_escolhe_jogada(n, m)\n",
        "            n = n - computadorRemove\n",
        "            if computadorRemove == 1:\n",
        "                print()\n",
        "                print('O computador tirou uma peça')\n",
        "            else:\n",
        "                print()\n",
        "                print('O computador tirou', computadorRemove, 'peças')\n",
        "\n",
        "            vezDoPC = False\n",
        "        else:\n",
        "            jogadorRemove = usuario_escolhe_jogada(n, m)\n",
        "            n = n - jogadorRemove\n",
        "            if jogadorRemove == 1:\n",
        "                print()\n",
        "                print('Você tirou uma peça')\n",
        "            else:\n",
        "                print()\n",
        "                print('Você tirou', jogadorRemove, 'peças')\n",
        "            vezDoPC = True\n",
        "        if n == 1:\n",
        "            print('Agora resta apenas uma peça no tabuleiro.')\n",
        "            print()\n",
        "        else:\n",
        "            if n != 0:\n",
        "                print('Agora restam,', n, 'peças no tabuleiro.')\n",
        "                print()\n",
        "\n",
        "    print('Fim do jogo! O computador ganhou!')\n",
        "\n",
        "print('Bem-vindo ao jogo do NIM! Escolha:')\n",
        "print()\n",
        "\n",
        "print('1 - para jogar uma partida isolada')\n",
        "\n",
        "tipoDePartida = int(input('2 - para jogar um campeonato '))\n",
        "\n",
        "if tipoDePartida == 2:\n",
        "    print()\n",
        "    print('Voce escolheu um campeonato!')\n",
        "    print()\n",
        "    campeonato()\n",
        "else:\n",
        "    if tipoDePartida == 1:\n",
        "        print()\n",
        "        partida()"
      ]
    },
    {
      "cell_type": "code",
      "execution_count": null,
      "metadata": {
        "id": "aLCAbYcLk3Zg"
      },
      "outputs": [],
      "source": [
        "linha = 1\n",
        "coluna = 1\n",
        "while linha <= 10:\n",
        "  while coluna <= 10:\n",
        "    print(linha*coluna, end = \"\\t\")\n",
        "    coluna = coluna + 1\n",
        "  linha = linha + 1\n",
        "  print()\n",
        "  coluna = 1\n"
      ]
    },
    {
      "cell_type": "code",
      "execution_count": null,
      "metadata": {
        "id": "3mzkNAfiWTPd"
      },
      "outputs": [],
      "source": [
        "fora = 5\n",
        "while fora > 0:\n",
        "  dentro = 0\n",
        "  while dentro < fora:\n",
        "    print(\"oi\")\n",
        "    dentro = dentro + 1\n",
        "  fora = fora - 1"
      ]
    },
    {
      "cell_type": "code",
      "execution_count": null,
      "metadata": {
        "id": "L4_nSgA3XDwi"
      },
      "outputs": [],
      "source": [
        "    tab = 1\n",
        "    while tab <= 10:\n",
        "        i = 1\n",
        "        while i <= 10:\n",
        "            print(tab,\"x\",i,\"=\",tab*i)\n",
        "            i = i + 1\n",
        "        print()\n",
        "        tab = tab + 1"
      ]
    },
    {
      "cell_type": "code",
      "execution_count": null,
      "metadata": {
        "colab": {
          "base_uri": "https://localhost:8080/"
        },
        "id": "ebzVCO2TXdxD",
        "outputId": "97205c22-25f9-47a5-f5b4-d30a4dc9acb8"
      },
      "outputs": [
        {
          "name": "stdout",
          "output_type": "stream",
          "text": [
            "1 x 1 = 1\n",
            "1 x 2 = 2\n",
            "1 x 3 = 3\n",
            "1 x 4 = 4\n",
            "1 x 5 = 5\n",
            "1 x 6 = 6\n",
            "1 x 7 = 7\n",
            "1 x 8 = 8\n",
            "1 x 9 = 9\n",
            "1 x 10 = 10\n",
            "\n",
            "2 x 1 = 2\n",
            "2 x 2 = 4\n",
            "2 x 3 = 6\n",
            "2 x 4 = 8\n",
            "2 x 5 = 10\n",
            "2 x 6 = 12\n",
            "2 x 7 = 14\n",
            "2 x 8 = 16\n",
            "2 x 9 = 18\n",
            "2 x 10 = 20\n",
            "\n",
            "3 x 1 = 3\n",
            "3 x 2 = 6\n",
            "3 x 3 = 9\n",
            "3 x 4 = 12\n",
            "3 x 5 = 15\n",
            "3 x 6 = 18\n",
            "3 x 7 = 21\n",
            "3 x 8 = 24\n",
            "3 x 9 = 27\n",
            "3 x 10 = 30\n",
            "\n",
            "4 x 1 = 4\n",
            "4 x 2 = 8\n",
            "4 x 3 = 12\n",
            "4 x 4 = 16\n",
            "4 x 5 = 20\n",
            "4 x 6 = 24\n",
            "4 x 7 = 28\n",
            "4 x 8 = 32\n",
            "4 x 9 = 36\n",
            "4 x 10 = 40\n",
            "\n",
            "5 x 1 = 5\n",
            "5 x 2 = 10\n",
            "5 x 3 = 15\n",
            "5 x 4 = 20\n",
            "5 x 5 = 25\n",
            "5 x 6 = 30\n",
            "5 x 7 = 35\n",
            "5 x 8 = 40\n",
            "5 x 9 = 45\n",
            "5 x 10 = 50\n",
            "\n",
            "6 x 1 = 6\n",
            "6 x 2 = 12\n",
            "6 x 3 = 18\n",
            "6 x 4 = 24\n",
            "6 x 5 = 30\n",
            "6 x 6 = 36\n",
            "6 x 7 = 42\n",
            "6 x 8 = 48\n",
            "6 x 9 = 54\n",
            "6 x 10 = 60\n",
            "\n",
            "7 x 1 = 7\n",
            "7 x 2 = 14\n",
            "7 x 3 = 21\n",
            "7 x 4 = 28\n",
            "7 x 5 = 35\n",
            "7 x 6 = 42\n",
            "7 x 7 = 49\n",
            "7 x 8 = 56\n",
            "7 x 9 = 63\n",
            "7 x 10 = 70\n",
            "\n",
            "8 x 1 = 8\n",
            "8 x 2 = 16\n",
            "8 x 3 = 24\n",
            "8 x 4 = 32\n",
            "8 x 5 = 40\n",
            "8 x 6 = 48\n",
            "8 x 7 = 56\n",
            "8 x 8 = 64\n",
            "8 x 9 = 72\n",
            "8 x 10 = 80\n",
            "\n",
            "9 x 1 = 9\n",
            "9 x 2 = 18\n",
            "9 x 3 = 27\n",
            "9 x 4 = 36\n",
            "9 x 5 = 45\n",
            "9 x 6 = 54\n",
            "9 x 7 = 63\n",
            "9 x 8 = 72\n",
            "9 x 9 = 81\n",
            "9 x 10 = 90\n",
            "\n",
            "10 x 1 = 10\n",
            "10 x 2 = 20\n",
            "10 x 3 = 30\n",
            "10 x 4 = 40\n",
            "10 x 5 = 50\n",
            "10 x 6 = 60\n",
            "10 x 7 = 70\n",
            "10 x 8 = 80\n",
            "10 x 9 = 90\n",
            "10 x 10 = 100\n",
            "\n"
          ]
        }
      ],
      "source": [
        "    tab = 0\n",
        "    while tab < 10:\n",
        "        tab = tab + 1\n",
        "        i = 0\n",
        "        while i < 10:\n",
        "            i = i + 1\n",
        "            print(tab,\"x\",i,\"=\",tab*i)\n",
        "        print()"
      ]
    },
    {
      "cell_type": "code",
      "execution_count": null,
      "metadata": {
        "colab": {
          "base_uri": "https://localhost:8080/"
        },
        "id": "5TLydb-tXozp",
        "outputId": "4dca73a3-759e-4730-946f-5509c4c3db35"
      },
      "outputs": [
        {
          "name": "stdout",
          "output_type": "stream",
          "text": [
            "1\t2\t2\t4\t"
          ]
        }
      ],
      "source": [
        "x = 1\n",
        "while x < 3:\n",
        "    y = 1\n",
        "    while y < 3:\n",
        "        print(x*y, end = \"\\t\")\n",
        "        y = y + 1\n",
        "    x = x + 1"
      ]
    },
    {
      "cell_type": "code",
      "execution_count": null,
      "metadata": {
        "id": "avr-SVn5pXK8"
      },
      "outputs": [],
      "source": [
        "tab = 1\n",
        "while tab <= 10:\n",
        "  print(\"Tabuada do\", tab, \":\", end=\"\\t\")\n",
        "  i = 1\n",
        "  while i <= 10:\n",
        "      print(tab*i, end = \"\\t\")\n",
        "      i = i + 1\n",
        "  print()\n",
        "  tab = tab + 1"
      ]
    },
    {
      "cell_type": "code",
      "execution_count": null,
      "metadata": {
        "id": "VslNWzhIW4AO"
      },
      "outputs": [],
      "source": [
        "    tab = 1\n",
        "    while tab <= 10:\n",
        "        i = 1\n",
        "        while i <= 10:\n",
        "            print(tab,\"x\",i,\"=\",tab*i)\n",
        "            i = i + 1\n",
        "        print()\n",
        "        tab = tab + 1\n"
      ]
    },
    {
      "cell_type": "code",
      "execution_count": null,
      "metadata": {
        "id": "WGX_L9kQYGVz"
      },
      "outputs": [],
      "source": [
        "n = int(input(\"Digite um número inteiro positivo: \"))\n",
        "while n >= 0:\n",
        "  fatorial = 1\n",
        "  while n > 1:\n",
        "    fatorial = fatorial * n\n",
        "    n = n - 1\n",
        "  print(fatorial)\n",
        "  n = int(input(\"Digite um número inteiro positivo: \"))\n"
      ]
    },
    {
      "cell_type": "code",
      "execution_count": null,
      "metadata": {
        "id": "695rliJIhlEt"
      },
      "outputs": [],
      "source": [
        ""
      ]
    },
    {
      "cell_type": "code",
      "execution_count": null,
      "metadata": {
        "id": "9U_GNiwuciOl"
      },
      "outputs": [],
      "source": [
        "def fatorial (n):\n",
        "  f = 1\n",
        "  while n > 1:\n",
        "    f = f * n\n",
        "    n = n - 1\n",
        "  return f\n",
        "\n",
        "n = int(input(\"Digite um número inteiro > 1: \"))\n"
      ]
    },
    {
      "cell_type": "code",
      "execution_count": null,
      "metadata": {
        "id": "cK-RV9RFfv0G"
      },
      "outputs": [],
      "source": [
        "\n",
        "n = int(input(\"Digite um número inteiro > 1: \"))\n",
        "\n",
        "fator = 2\n",
        "multiplicidade = 0\n",
        "\n",
        "while n > 1:\n",
        "  while n % fator == 0:\n",
        "    multiplicidade = multiplicidade + 1\n",
        "    n = n / fator\n",
        "  if multiplicidade > 0:\n",
        "    print(\"fator \", fator, \"multiplicidade = \", multiplicidade)\n",
        "  fator = fator + 1\n",
        "  multiplicidade = 0"
      ]
    },
    {
      "cell_type": "code",
      "execution_count": null,
      "metadata": {
        "colab": {
          "base_uri": "https://localhost:8080/",
          "height": 536
        },
        "id": "a8yuCvnWhzaz",
        "outputId": "26654798-1299-4807-cf8e-f7d219823d1f"
      },
      "outputs": [
        {
          "ename": "KeyboardInterrupt",
          "evalue": "ignored",
          "output_type": "error",
          "traceback": [
            "\u001b[0;31m---------------------------------------------------------------------------\u001b[0m",
            "\u001b[0;31mKeyboardInterrupt\u001b[0m                         Traceback (most recent call last)",
            "\u001b[0;32m/usr/local/lib/python3.7/dist-packages/ipykernel/kernelbase.py\u001b[0m in \u001b[0;36m_input_request\u001b[0;34m(self, prompt, ident, parent, password)\u001b[0m\n\u001b[1;32m    728\u001b[0m             \u001b[0;32mtry\u001b[0m\u001b[0;34m:\u001b[0m\u001b[0;34m\u001b[0m\u001b[0;34m\u001b[0m\u001b[0m\n\u001b[0;32m--> 729\u001b[0;31m                 \u001b[0mident\u001b[0m\u001b[0;34m,\u001b[0m \u001b[0mreply\u001b[0m \u001b[0;34m=\u001b[0m \u001b[0mself\u001b[0m\u001b[0;34m.\u001b[0m\u001b[0msession\u001b[0m\u001b[0;34m.\u001b[0m\u001b[0mrecv\u001b[0m\u001b[0;34m(\u001b[0m\u001b[0mself\u001b[0m\u001b[0;34m.\u001b[0m\u001b[0mstdin_socket\u001b[0m\u001b[0;34m,\u001b[0m \u001b[0;36m0\u001b[0m\u001b[0;34m)\u001b[0m\u001b[0;34m\u001b[0m\u001b[0;34m\u001b[0m\u001b[0m\n\u001b[0m\u001b[1;32m    730\u001b[0m             \u001b[0;32mexcept\u001b[0m \u001b[0mException\u001b[0m\u001b[0;34m:\u001b[0m\u001b[0;34m\u001b[0m\u001b[0;34m\u001b[0m\u001b[0m\n",
            "\u001b[0;32m/usr/local/lib/python3.7/dist-packages/jupyter_client/session.py\u001b[0m in \u001b[0;36mrecv\u001b[0;34m(self, socket, mode, content, copy)\u001b[0m\n\u001b[1;32m    802\u001b[0m         \u001b[0;32mtry\u001b[0m\u001b[0;34m:\u001b[0m\u001b[0;34m\u001b[0m\u001b[0;34m\u001b[0m\u001b[0m\n\u001b[0;32m--> 803\u001b[0;31m             \u001b[0mmsg_list\u001b[0m \u001b[0;34m=\u001b[0m \u001b[0msocket\u001b[0m\u001b[0;34m.\u001b[0m\u001b[0mrecv_multipart\u001b[0m\u001b[0;34m(\u001b[0m\u001b[0mmode\u001b[0m\u001b[0;34m,\u001b[0m \u001b[0mcopy\u001b[0m\u001b[0;34m=\u001b[0m\u001b[0mcopy\u001b[0m\u001b[0;34m)\u001b[0m\u001b[0;34m\u001b[0m\u001b[0;34m\u001b[0m\u001b[0m\n\u001b[0m\u001b[1;32m    804\u001b[0m         \u001b[0;32mexcept\u001b[0m \u001b[0mzmq\u001b[0m\u001b[0;34m.\u001b[0m\u001b[0mZMQError\u001b[0m \u001b[0;32mas\u001b[0m \u001b[0me\u001b[0m\u001b[0;34m:\u001b[0m\u001b[0;34m\u001b[0m\u001b[0;34m\u001b[0m\u001b[0m\n",
            "\u001b[0;32m/usr/local/lib/python3.7/dist-packages/zmq/sugar/socket.py\u001b[0m in \u001b[0;36mrecv_multipart\u001b[0;34m(self, flags, copy, track)\u001b[0m\n\u001b[1;32m    624\u001b[0m         \"\"\"\n\u001b[0;32m--> 625\u001b[0;31m         \u001b[0mparts\u001b[0m \u001b[0;34m=\u001b[0m \u001b[0;34m[\u001b[0m\u001b[0mself\u001b[0m\u001b[0;34m.\u001b[0m\u001b[0mrecv\u001b[0m\u001b[0;34m(\u001b[0m\u001b[0mflags\u001b[0m\u001b[0;34m,\u001b[0m \u001b[0mcopy\u001b[0m\u001b[0;34m=\u001b[0m\u001b[0mcopy\u001b[0m\u001b[0;34m,\u001b[0m \u001b[0mtrack\u001b[0m\u001b[0;34m=\u001b[0m\u001b[0mtrack\u001b[0m\u001b[0;34m)\u001b[0m\u001b[0;34m]\u001b[0m\u001b[0;34m\u001b[0m\u001b[0;34m\u001b[0m\u001b[0m\n\u001b[0m\u001b[1;32m    626\u001b[0m         \u001b[0;31m# have first part already, only loop while more to receive\u001b[0m\u001b[0;34m\u001b[0m\u001b[0;34m\u001b[0m\u001b[0;34m\u001b[0m\u001b[0m\n",
            "\u001b[0;32mzmq/backend/cython/socket.pyx\u001b[0m in \u001b[0;36mzmq.backend.cython.socket.Socket.recv\u001b[0;34m()\u001b[0m\n",
            "\u001b[0;32mzmq/backend/cython/socket.pyx\u001b[0m in \u001b[0;36mzmq.backend.cython.socket.Socket.recv\u001b[0;34m()\u001b[0m\n",
            "\u001b[0;32mzmq/backend/cython/socket.pyx\u001b[0m in \u001b[0;36mzmq.backend.cython.socket._recv_copy\u001b[0;34m()\u001b[0m\n",
            "\u001b[0;32m/usr/local/lib/python3.7/dist-packages/zmq/backend/cython/checkrc.pxd\u001b[0m in \u001b[0;36mzmq.backend.cython.checkrc._check_rc\u001b[0;34m()\u001b[0m\n",
            "\u001b[0;31mKeyboardInterrupt\u001b[0m: ",
            "\nDuring handling of the above exception, another exception occurred:\n",
            "\u001b[0;31mKeyboardInterrupt\u001b[0m                         Traceback (most recent call last)",
            "\u001b[0;32m<ipython-input-11-5192ec10c3b3>\u001b[0m in \u001b[0;36m<module>\u001b[0;34m()\u001b[0m\n\u001b[1;32m     11\u001b[0m     \u001b[0;32mreturn\u001b[0m \u001b[0;32mTrue\u001b[0m\u001b[0;34m\u001b[0m\u001b[0;34m\u001b[0m\u001b[0m\n\u001b[1;32m     12\u001b[0m \u001b[0;34m\u001b[0m\u001b[0m\n\u001b[0;32m---> 13\u001b[0;31m \u001b[0mn\u001b[0m \u001b[0;34m=\u001b[0m \u001b[0mint\u001b[0m\u001b[0;34m(\u001b[0m\u001b[0minput\u001b[0m\u001b[0;34m(\u001b[0m\u001b[0;34m\"Digite um número inteiro: \"\u001b[0m\u001b[0;34m)\u001b[0m\u001b[0;34m)\u001b[0m\u001b[0;34m\u001b[0m\u001b[0;34m\u001b[0m\u001b[0m\n\u001b[0m\u001b[1;32m     14\u001b[0m \u001b[0;34m\u001b[0m\u001b[0m\n\u001b[1;32m     15\u001b[0m \u001b[0;32mwhile\u001b[0m \u001b[0mn\u001b[0m \u001b[0;34m>\u001b[0m \u001b[0;36m0\u001b[0m\u001b[0;34m:\u001b[0m\u001b[0;34m\u001b[0m\u001b[0;34m\u001b[0m\u001b[0m\n",
            "\u001b[0;32m/usr/local/lib/python3.7/dist-packages/ipykernel/kernelbase.py\u001b[0m in \u001b[0;36mraw_input\u001b[0;34m(self, prompt)\u001b[0m\n\u001b[1;32m    702\u001b[0m             \u001b[0mself\u001b[0m\u001b[0;34m.\u001b[0m\u001b[0m_parent_ident\u001b[0m\u001b[0;34m,\u001b[0m\u001b[0;34m\u001b[0m\u001b[0;34m\u001b[0m\u001b[0m\n\u001b[1;32m    703\u001b[0m             \u001b[0mself\u001b[0m\u001b[0;34m.\u001b[0m\u001b[0m_parent_header\u001b[0m\u001b[0;34m,\u001b[0m\u001b[0;34m\u001b[0m\u001b[0;34m\u001b[0m\u001b[0m\n\u001b[0;32m--> 704\u001b[0;31m             \u001b[0mpassword\u001b[0m\u001b[0;34m=\u001b[0m\u001b[0;32mFalse\u001b[0m\u001b[0;34m,\u001b[0m\u001b[0;34m\u001b[0m\u001b[0;34m\u001b[0m\u001b[0m\n\u001b[0m\u001b[1;32m    705\u001b[0m         )\n\u001b[1;32m    706\u001b[0m \u001b[0;34m\u001b[0m\u001b[0m\n",
            "\u001b[0;32m/usr/local/lib/python3.7/dist-packages/ipykernel/kernelbase.py\u001b[0m in \u001b[0;36m_input_request\u001b[0;34m(self, prompt, ident, parent, password)\u001b[0m\n\u001b[1;32m    732\u001b[0m             \u001b[0;32mexcept\u001b[0m \u001b[0mKeyboardInterrupt\u001b[0m\u001b[0;34m:\u001b[0m\u001b[0;34m\u001b[0m\u001b[0;34m\u001b[0m\u001b[0m\n\u001b[1;32m    733\u001b[0m                 \u001b[0;31m# re-raise KeyboardInterrupt, to truncate traceback\u001b[0m\u001b[0;34m\u001b[0m\u001b[0;34m\u001b[0m\u001b[0;34m\u001b[0m\u001b[0m\n\u001b[0;32m--> 734\u001b[0;31m                 \u001b[0;32mraise\u001b[0m \u001b[0mKeyboardInterrupt\u001b[0m\u001b[0;34m\u001b[0m\u001b[0;34m\u001b[0m\u001b[0m\n\u001b[0m\u001b[1;32m    735\u001b[0m             \u001b[0;32melse\u001b[0m\u001b[0;34m:\u001b[0m\u001b[0;34m\u001b[0m\u001b[0;34m\u001b[0m\u001b[0m\n\u001b[1;32m    736\u001b[0m                 \u001b[0;32mbreak\u001b[0m\u001b[0;34m\u001b[0m\u001b[0;34m\u001b[0m\u001b[0m\n",
            "\u001b[0;31mKeyboardInterrupt\u001b[0m: "
          ]
        }
      ],
      "source": [
        "def Primo (x):\n",
        "  fator = 2\n",
        "  if x == 2:\n",
        "    return True\n",
        "    \n",
        "  while x % fator != 0 and fator < x/2:\n",
        "    fator = fator + 1\n",
        "  if x % fator == 0:\n",
        "    return False\n",
        "  else: \n",
        "    return True\n",
        "\n",
        "n = int(input(\"Digite um número inteiro: \"))\n",
        "\n",
        "while n > 0:\n",
        "  if Primo (n):\n",
        "    print(n, \"é primo!\")\n",
        "  else:\n",
        "    print(n, \"não é primo :(\")\n",
        "  n = int(input(\"Digite um número inteiro: \"))\n",
        "\n"
      ]
    },
    {
      "cell_type": "code",
      "execution_count": null,
      "metadata": {
        "id": "VX3u_QDb4Qfx"
      },
      "outputs": [],
      "source": [
        "l = int(input(\"Digite a largura: \"))\n",
        "a = int(input(\"Digite a altura: \"))\n",
        "\n",
        "linha = 0\n",
        "coluna = 0\n",
        "\n",
        "while linha < a:\n",
        "    while coluna < l:\n",
        "        print(\"#\", end=\"\")\n",
        "        coluna = coluna + 1\n",
        "    print()\n",
        "\n",
        "    linha = linha+1\n",
        "    coluna = 0"
      ]
    },
    {
      "cell_type": "code",
      "execution_count": null,
      "metadata": {
        "id": "MtpvGTr140jV"
      },
      "outputs": [],
      "source": [
        "l = int(input(\"Digite a largura: \"))\n",
        "a = int(input(\"Digite a altura: \"))\n",
        "\n",
        "for _ in range(a):\n",
        "  print(\"# \" * l)"
      ]
    },
    {
      "cell_type": "code",
      "execution_count": null,
      "metadata": {
        "id": "8XxK_vDT51AA"
      },
      "outputs": [],
      "source": [
        "l = int(input(\"Digite a largura: \"))\n",
        "a = int(input(\"Digite a altura: \"))\n",
        "\n",
        "linha = l\n",
        "coluna = a\n",
        "\n",
        "while coluna > 0:\n",
        "  x = 0\n",
        "  while x < linha:\n",
        "    if coluna == (coluna) or x == (linha - 1) or coluna == 1 or x == 0:\n",
        "      print(\"#\" , end = '')\n",
        "    else: \n",
        "      print(\" \" , end = '')\n",
        "    x+=1\n",
        "  coluna = coluna - 1\n",
        "  print()"
      ]
    },
    {
      "cell_type": "code",
      "execution_count": null,
      "metadata": {
        "id": "dJoJObKs66j3"
      },
      "outputs": [],
      "source": [
        "largura = int(input(\"digite a largura: \"))\n",
        "altura = int(input(\"digite a altura: \"))\n",
        "ALT = altura\n",
        "LARG = largura\n",
        "while altura > 0:\n",
        "    x = 0\n",
        "    while x < largura:\n",
        "        if altura == (ALT) or x == (LARG - 1) or altura == 1 or x == 0:\n",
        "            print(\"#\" , end = '')\n",
        "        else: \n",
        "            print(\" \" , end = '')\n",
        "        x+=1\n",
        "    altura = altura - 1\n",
        "    print()\n",
        "  "
      ]
    },
    {
      "cell_type": "code",
      "execution_count": null,
      "metadata": {
        "id": "uMxqlsTu_BvY"
      },
      "outputs": [],
      "source": [
        "\n",
        "def calcula_hipotenusa(a, b):\n",
        "    hipotenusa = ((a*a) + (b*b))\n",
        "    return hipotenusa\n",
        "\n",
        "def soma_hipotenusas(n):\n",
        "    c = 1\n",
        "    soma = 0\n",
        "    while (c <= n):\n",
        "        c2 = (c*c)       \n",
        "        a = 1\n",
        "        b = 1\n",
        "        while (a < n):\n",
        "            while (b < n):\n",
        "                if (c2 == calcula_hipotenusa(a, b)): \n",
        "                    soma = soma + c\n",
        "                    a = n\n",
        "                    break\n",
        "                b += 1\n",
        "            a += 1\n",
        "            b = a\n",
        "        c += 1   \n",
        "    return soma\n",
        "\n",
        "def entrada():\n",
        "    x = int(input(\"Digite um número inteiro e positivo: \"))\n",
        "    while x < 1:\n",
        "        print(\"Número inválido! Tente novamente.\")\n",
        "        print()\n",
        "        x = int(input(\"Digite um número inteiro e positivo: \"))\n",
        "    print(soma_hipotenusas(x)) # Chamada da função que soma as hipotenusas\n",
        "\n",
        "if __name__ == \"__main__\":\n",
        "    entrada()"
      ]
    },
    {
      "cell_type": "code",
      "execution_count": null,
      "metadata": {
        "id": "70pgFfGB_8uh"
      },
      "outputs": [],
      "source": [
        "def Primo (x):\n",
        "  fator = 2\n",
        "  if x == 2:\n",
        "    return True\n",
        "    \n",
        "  while x % fator != 0 and fator < x/2:\n",
        "    fator = fator + 1\n",
        "  if x % fator == 0:\n",
        "    return False\n",
        "  else: \n",
        "    return True\n",
        "\n",
        "\n",
        "limite = int(input(\"Limite máximo: \"))\n",
        "\n",
        "n = 2\n",
        "while n < limite: \n",
        "  if Primo (n):\n",
        "    print(n, end=\", \")\n",
        "    n = n + 1"
      ]
    },
    {
      "cell_type": "code",
      "execution_count": null,
      "metadata": {
        "id": "uCdgaAcb_s07"
      },
      "outputs": [],
      "source": [
        "import math\n",
        "\n",
        "def hipotenusa(n):\n",
        "    i = 1\n",
        "    while(i <= n):\n",
        "        j = 1\n",
        "        while(j <= n):\n",
        "            a = i\n",
        "            b = j\n",
        "            c = int(math.sqrt((a ** 2) + (b ** 2)))\n",
        "            if (c > a) and (c > b) and (c < (a + b)):\n",
        "                if ((a ** 2) + (b ** 2) == c ** 2):\n",
        "                    if(c == n):\n",
        "                        return c\n",
        "            j = j +1\n",
        "        i = i + 1\n",
        "\n",
        "    return 0\n",
        "\n",
        "def soma_hipotenusas(n):\n",
        "    soma = 0\n",
        "    old = 0\n",
        "    i = 1\n",
        "    for i in range(1,n+1):\n",
        "        result = hipotenusa(i)\n",
        "        if(result > old):\n",
        "            old = result\n",
        "            soma = soma + result\n",
        "\n",
        "    return soma"
      ]
    },
    {
      "cell_type": "code",
      "execution_count": null,
      "metadata": {
        "colab": {
          "base_uri": "https://localhost:8080/"
        },
        "id": "KoiuDTe63TGY",
        "outputId": "a480bb14-47da-4bb3-9fc5-c2a19d4434ff"
      },
      "outputs": [
        {
          "data": {
            "text/plain": [
              "['Slow Dancing in a Burning Room',\n",
              " \"Don't stop beliving\",\n",
              " 'wish you were here',\n",
              " 'Money Trees',\n",
              " 'Strawberry Fields Forever']"
            ]
          },
          "execution_count": 18,
          "metadata": {},
          "output_type": "execute_result"
        }
      ],
      "source": [
        "playlist_do_lucas = [\"Slow Dancing in a Burning Room\", \"Don't stop beliving\", \"wish you were here\", \"Money Trees\"]\n",
        "\n",
        "playlist_do_lucas.append(\"Strawberry Fields Forever\")\n",
        "\n",
        "playlist_do_lucas"
      ]
    },
    {
      "cell_type": "code",
      "execution_count": null,
      "metadata": {
        "id": "Pur9e11I5n7M"
      },
      "outputs": [],
      "source": [
        "primos = [2, 3, 5, 7, 11, 13, 17, 19, 23, 29, 31, 37, 41, 43, 47]\n",
        "\n",
        "for i in range(len(primos)):\n",
        "  primos[i] = primos[i]**3\n",
        "\n",
        "cubos_dos_primos = primos"
      ]
    },
    {
      "cell_type": "code",
      "execution_count": null,
      "metadata": {
        "colab": {
          "base_uri": "https://localhost:8080/"
        },
        "id": "ZdpJ2p1R8OA2",
        "outputId": "1d09e295-e81a-45bd-9c61-9283838c1599"
      },
      "outputs": [
        {
          "data": {
            "text/plain": [
              "int"
            ]
          },
          "execution_count": 17,
          "metadata": {},
          "output_type": "execute_result"
        }
      ],
      "source": [
        "filme = [\"O que é isso companheiro?\", \"Bruno Barreto\", 1.83, 1997]\n",
        "\n",
        "type(filme[3])"
      ]
    },
    {
      "cell_type": "code",
      "execution_count": null,
      "metadata": {
        "colab": {
          "base_uri": "https://localhost:8080/"
        },
        "id": "jAm3gTbv-Ona",
        "outputId": "9a315ba4-dd89-4fdb-a59a-95966a4a5e7a"
      },
      "outputs": [
        {
          "data": {
            "text/plain": [
              "11"
            ]
          },
          "execution_count": 35,
          "metadata": {},
          "output_type": "execute_result"
        }
      ],
      "source": [
        "aluno = [\"Fulano de Tal\", 25, \"Rua xyz, 123\", \"São Paulo\", 3, \"Matemática\", 7.5, \"Português\", 6.6, \"Artes\", 10]\n",
        "len(aluno)\n"
      ]
    },
    {
      "cell_type": "code",
      "execution_count": null,
      "metadata": {
        "colab": {
          "base_uri": "https://localhost:8080/"
        },
        "id": "gXnV7IhwETvw",
        "outputId": "06bcf9c9-741a-4175-c860-280650603d69"
      },
      "outputs": [
        {
          "data": {
            "text/plain": [
              "['gato', 'cachorro', 'vaca', 'cavalo', 'cobra']"
            ]
          },
          "execution_count": 43,
          "metadata": {},
          "output_type": "execute_result"
        }
      ],
      "source": [
        "animais = [\"gato\", \"cachorro\", \"vaca\", \"cavalo\", \"casa\"]\n",
        "\n",
        "animais[-1] = \"cobra\"\n",
        "animais"
      ]
    },
    {
      "cell_type": "code",
      "execution_count": null,
      "metadata": {
        "colab": {
          "base_uri": "https://localhost:8080/"
        },
        "id": "8XGfGyVHCs1m",
        "outputId": "f717bfbb-68ab-432a-d56d-1974d68455ab"
      },
      "outputs": [
        {
          "name": "stdout",
          "output_type": "stream",
          "text": [
            "cravo, tulipa, rosa, margarida, "
          ]
        }
      ],
      "source": [
        "flores = [\"margarida\", \"rosa\", \"tulipa\", \"cravo\"]\n",
        "tam = len(flores) - 1\n",
        "while tam >= 0:\n",
        "    print(flores[tam], end=\", \")\n",
        "    tam -= 1"
      ]
    },
    {
      "cell_type": "code",
      "execution_count": null,
      "metadata": {
        "colab": {
          "base_uri": "https://localhost:8080/"
        },
        "id": "VO_19kqrFInJ",
        "outputId": "85e13e95-40c3-46dc-ea5d-7d350884e574"
      },
      "outputs": [
        {
          "name": "stdout",
          "output_type": "stream",
          "text": [
            "Eu amo joboticaba\n",
            "Eu amo cupuaçu\n",
            "Eu amo graviola\n"
          ]
        }
      ],
      "source": [
        "frutas_exoticas = [\"joboticaba\", \"cupuaçu\", \"graviola\"]\n",
        "\n",
        "for fruta in frutas_exoticas:\n",
        "  print(\"Eu amo \"+ fruta)"
      ]
    },
    {
      "cell_type": "code",
      "execution_count": null,
      "metadata": {
        "colab": {
          "base_uri": "https://localhost:8080/"
        },
        "id": "NfYOyRR0GNDq",
        "outputId": "8e8cfd93-94ec-4e9b-bdde-859e077fa208"
      },
      "outputs": [
        {
          "name": "stdout",
          "output_type": "stream",
          "text": [
            "100\n",
            "95\n",
            "90\n",
            "85\n",
            "80\n",
            "75\n",
            "70\n",
            "65\n",
            "60\n",
            "55\n",
            "50\n",
            "45\n",
            "40\n",
            "35\n",
            "30\n",
            "25\n",
            "20\n",
            "15\n",
            "10\n",
            "5\n",
            "0\n"
          ]
        }
      ],
      "source": [
        "numeros = range(100, -5, -5)\n",
        "for x in numeros: print (x)"
      ]
    },
    {
      "cell_type": "code",
      "execution_count": null,
      "metadata": {
        "colab": {
          "base_uri": "https://localhost:8080/"
        },
        "id": "I5dl-VoYJJAy",
        "outputId": "928960dc-d47c-4ad0-ff58-99a7b03f47d7"
      },
      "outputs": [
        {
          "data": {
            "text/plain": [
              "[2, 4, 6, 8]"
            ]
          },
          "execution_count": 81,
          "metadata": {},
          "output_type": "execute_result"
        }
      ],
      "source": [
        "valores = []\n",
        "for i in range(1, 10):\n",
        "    if i % 2 == 0:\n",
        "        valores.append(i)\n",
        "\n",
        "valores"
      ]
    },
    {
      "cell_type": "code",
      "execution_count": null,
      "metadata": {
        "colab": {
          "base_uri": "https://localhost:8080/"
        },
        "id": "IIlDxH3rJ7j3",
        "outputId": "a3571ab3-a763-4bee-975d-59a8421798a4"
      },
      "outputs": [
        {
          "data": {
            "text/plain": [
              "['gato', 'cachorro', 'piriquito', 'arara', 'jacaré']"
            ]
          },
          "execution_count": 96,
          "metadata": {},
          "output_type": "execute_result"
        }
      ],
      "source": [
        "animais = [\"gato\", \"cachorro\", \"papagaio\",\n",
        "\"arara\", \"jacaré\"]\n",
        "\n",
        "\n",
        "animais[-3] = \"piriquito\"\n",
        "\n",
        "\n",
        "animais"
      ]
    },
    {
      "cell_type": "code",
      "execution_count": null,
      "metadata": {
        "colab": {
          "base_uri": "https://localhost:8080/",
          "height": 235
        },
        "id": "y5i1v5-ra4bG",
        "outputId": "4dea9c66-9687-47a9-e128-253483b0caad"
      },
      "outputs": [
        {
          "ename": "NameError",
          "evalue": "ignored",
          "output_type": "error",
          "traceback": [
            "\u001b[0;31m---------------------------------------------------------------------------\u001b[0m",
            "\u001b[0;31mNameError\u001b[0m                                 Traceback (most recent call last)",
            "\u001b[0;32m<ipython-input-111-5541b3337b30>\u001b[0m in \u001b[0;36m<module>\u001b[0;34m()\u001b[0m\n\u001b[1;32m      1\u001b[0m \u001b[0mprimos\u001b[0m \u001b[0;34m=\u001b[0m \u001b[0;34m[\u001b[0m\u001b[0;36m2\u001b[0m\u001b[0;34m,\u001b[0m \u001b[0;36m3\u001b[0m\u001b[0;34m,\u001b[0m \u001b[0;36m5\u001b[0m\u001b[0;34m,\u001b[0m \u001b[0;36m7\u001b[0m\u001b[0;34m,\u001b[0m \u001b[0;36m11\u001b[0m\u001b[0;34m,\u001b[0m \u001b[0;36m13\u001b[0m\u001b[0;34m,\u001b[0m \u001b[0;36m17\u001b[0m\u001b[0;34m,\u001b[0m \u001b[0;36m19\u001b[0m\u001b[0;34m,\u001b[0m \u001b[0;36m23\u001b[0m\u001b[0;34m,\u001b[0m \u001b[0;36m29\u001b[0m\u001b[0;34m,\u001b[0m \u001b[0;36m31\u001b[0m\u001b[0;34m,\u001b[0m \u001b[0;36m37\u001b[0m\u001b[0;34m,\u001b[0m \u001b[0;36m41\u001b[0m\u001b[0;34m,\u001b[0m \u001b[0;36m43\u001b[0m\u001b[0;34m,\u001b[0m \u001b[0;36m47\u001b[0m\u001b[0;34m]\u001b[0m\u001b[0;34m\u001b[0m\u001b[0;34m\u001b[0m\u001b[0m\n\u001b[1;32m      2\u001b[0m \u001b[0;34m\u001b[0m\u001b[0m\n\u001b[0;32m----> 3\u001b[0;31m \u001b[0mprimos\u001b[0m \u001b[0;34m=\u001b[0m \u001b[0mprimos2\u001b[0m\u001b[0;34m[\u001b[0m\u001b[0;34m:\u001b[0m\u001b[0;34m]\u001b[0m\u001b[0;34m\u001b[0m\u001b[0;34m\u001b[0m\u001b[0m\n\u001b[0m\u001b[1;32m      4\u001b[0m \u001b[0;34m\u001b[0m\u001b[0m\n\u001b[1;32m      5\u001b[0m \u001b[0mprimos2\u001b[0m\u001b[0;34m[\u001b[0m\u001b[0;36m4\u001b[0m\u001b[0;34m]\u001b[0m \u001b[0;34m=\u001b[0m \u001b[0;36m46546\u001b[0m\u001b[0;34m\u001b[0m\u001b[0;34m\u001b[0m\u001b[0m\n",
            "\u001b[0;31mNameError\u001b[0m: name 'primos2' is not defined"
          ]
        }
      ],
      "source": [
        "primos = [2, 3, 5, 7, 11, 13, 17, 19, 23, 29, 31, 37, 41, 43, 47]\n",
        "\n",
        "primos = primos2[:]\n",
        "\n",
        "primos2[4] = 46546\n",
        "\n",
        "primos"
      ]
    },
    {
      "cell_type": "code",
      "execution_count": null,
      "metadata": {
        "colab": {
          "base_uri": "https://localhost:8080/"
        },
        "id": "SZzXNpPpb7WJ",
        "outputId": "d8edc32a-593b-47c1-ed6d-f6c1aa4d9984"
      },
      "outputs": [
        {
          "data": {
            "text/plain": [
              "['rosa', 'verde', 'azul']"
            ]
          },
          "execution_count": 110,
          "metadata": {},
          "output_type": "execute_result"
        }
      ],
      "source": [
        "lista1 = [\"vermelho\", \"verde\", \"azul\"]\n",
        "lista2 = lista1\n",
        "lista2[0] = \"rosa\"\n",
        "lista1\n",
        "\n",
        "def clone (lista):\n",
        "  clone = []\n",
        "  for objeto in lista:\n",
        "    clone.append(objeto))\n",
        "  return clone\n",
        "\n",
        "  #ou podemos clonar uma lista com lista[:]\n"
      ]
    },
    {
      "cell_type": "code",
      "execution_count": null,
      "metadata": {
        "colab": {
          "base_uri": "https://localhost:8080/"
        },
        "id": "64kreutRgPoC",
        "outputId": "3339c7d0-e897-4215-fe19-2b41ba628b1b"
      },
      "outputs": [
        {
          "data": {
            "text/plain": [
              "[1, 2, 3, 5]"
            ]
          },
          "execution_count": 118,
          "metadata": {},
          "output_type": "execute_result"
        }
      ],
      "source": [
        "a = [1, 2, 3]\n",
        "b = [4, 5, 6]\n",
        "\n",
        "#a.append(\"gato\")#append altera uma lista existente, a concatenação não\n",
        "\n",
        "b = a + [5]\n",
        "\n",
        "b"
      ]
    },
    {
      "cell_type": "code",
      "execution_count": null,
      "metadata": {
        "colab": {
          "base_uri": "https://localhost:8080/"
        },
        "id": "5nj7gRMMhIlI",
        "outputId": "5a9e4474-30d1-4ef4-ebc1-aa6cc32c7f76"
      },
      "outputs": [
        {
          "data": {
            "text/plain": [
              "[1, 3]"
            ]
          },
          "execution_count": 121,
          "metadata": {},
          "output_type": "execute_result"
        }
      ],
      "source": [
        "a = [1, 2, 3]\n",
        "\n",
        "\n",
        "del a[1]\n",
        "\n",
        "a"
      ]
    },
    {
      "cell_type": "code",
      "execution_count": null,
      "metadata": {
        "colab": {
          "base_uri": "https://localhost:8080/"
        },
        "id": "r-y6wBiLjGWE",
        "outputId": "29cadd3a-693c-4719-eac2-09640a4aeac1"
      },
      "outputs": [
        {
          "name": "stdout",
          "output_type": "stream",
          "text": [
            "[1, 2, 3, 4, 6, 7, 8, 9, 10]\n"
          ]
        }
      ],
      "source": [
        "def remove_repetidos(lista):\n",
        "    l = []\n",
        "    for i in lista:\n",
        "        if i not in l:\n",
        "            l.append(i)\n",
        "    l.sort()\n",
        "    return l\n",
        "\n",
        "lista = [1, 1, 2, 1, 3, 4, 3, 6, 7, 6, 7, 8, 10 ,9]\n",
        "\n",
        "lista = remove_repetidos(lista)\n",
        "print (lista)"
      ]
    },
    {
      "cell_type": "code",
      "execution_count": null,
      "metadata": {
        "id": "JkXEIH2Gko4V"
      },
      "outputs": [],
      "source": [
        "def somar_elementos(lista):\n",
        "  soma = 0\n",
        "  for numero in lista:\n",
        "    soma += numero\n",
        "  return soma\n",
        "\n",
        "  #ou pode ser usado a função sum que serve exatamente para isso\n",
        "\n",
        "soma = sum([1, 2, 3])\n"
      ]
    },
    {
      "cell_type": "code",
      "execution_count": null,
      "metadata": {
        "colab": {
          "base_uri": "https://localhost:8080/"
        },
        "id": "MKXgPet1nKRu",
        "outputId": "0a5923fa-2ad6-47db-c13d-327ae24057a3"
      },
      "outputs": [
        {
          "data": {
            "text/plain": [
              "79879"
            ]
          },
          "execution_count": 128,
          "metadata": {},
          "output_type": "execute_result"
        }
      ],
      "source": [
        "def maior_elemento(lista):\n",
        "    try:\n",
        "        if len(lista) == 0:\n",
        "            return None\n",
        "\n",
        "        maior = lista[0]\n",
        "\n",
        "        for valor in lista:\n",
        "            if valor > maior:\n",
        "                maior = valor\n",
        "\n",
        "        return maior\n",
        "    except TypeError:\n",
        "        return lista\n",
        "\n",
        "lista1 = [456, 32, 79879, 1, 45]\n",
        "\n",
        "maior_elemento(lista1)"
      ]
    },
    {
      "cell_type": "code",
      "execution_count": null,
      "metadata": {
        "colab": {
          "base_uri": "https://localhost:8080/"
        },
        "id": "XD070qmNn-wq",
        "outputId": "58a6f95b-fbd1-49e8-d1e8-a76550d65850"
      },
      "outputs": [
        {
          "name": "stdout",
          "output_type": "stream",
          "text": [
            "Digite n: 6\n",
            "Digite n: 9\n",
            "Digite n: 5\n",
            "Digite n: 3\n",
            "Digite n: 7\n",
            "Digite n: 0\n",
            "7\n",
            "3\n",
            "5\n",
            "9\n",
            "6\n"
          ]
        }
      ],
      "source": [
        "seq = []\n",
        "\n",
        "# Executa até ocorrer `break`\n",
        "while True:\n",
        "\n",
        "    # Pede ao usuário um valor inteiro:\n",
        "    n = int(input(\"Digite n: \"))    \n",
        "\n",
        "    # Se for zero, pare o loop:\n",
        "    if n == 0: break\n",
        "\n",
        "    # Se não, adiciona o valor a lista:\n",
        "    seq.append(n)\n",
        "\n",
        "# Percorre toda a lista de trás para frente:\n",
        "for i in reversed(seq):\n",
        "\n",
        "    # Exibe o valor na tela:\n",
        "    print(i)\n"
      ]
    },
    {
      "cell_type": "code",
      "execution_count": null,
      "metadata": {
        "colab": {
          "base_uri": "https://localhost:8080/"
        },
        "id": "nQMYkE0mp9Ov",
        "outputId": "0e16a561-ef70-4ac4-b13f-6149cae0d17c"
      },
      "outputs": [
        {
          "data": {
            "text/plain": [
              "False"
            ]
          },
          "execution_count": 135,
          "metadata": {},
          "output_type": "execute_result"
        }
      ],
      "source": [
        "#Objetos e referências em Python\n",
        "# quando o comando a = \"banana\" o sistema armazena na memória os bytes correspondentes a letra banana.\n",
        "# b = \"banana\" é uma nova variável com o mesmo conteúdo. O String é um objeto imutável. Tanto A quanto B vão apontar para o mesmo objeto que é a \"banana\". Listas são mutáveis, podem ser alterados.\n",
        "\n",
        "a = \"banana\"\n",
        "b = \"banana\"\n",
        "c = \"maçã\"\n",
        "\n"
      ]
    },
    {
      "cell_type": "code",
      "execution_count": null,
      "metadata": {
        "colab": {
          "base_uri": "https://localhost:8080/"
        },
        "id": "zTjrGVd3rHUy",
        "outputId": "c5b54d4c-3ee7-4709-f337-91ee99013d68"
      },
      "outputs": [
        {
          "data": {
            "text/plain": [
              "True"
            ]
          },
          "execution_count": 138,
          "metadata": {},
          "output_type": "execute_result"
        }
      ],
      "source": [
        "a = [81, 82, 83]\n",
        "b = [81, 82, 83]\n",
        "# a is b = false\n",
        "a == b"
      ]
    },
    {
      "cell_type": "code",
      "execution_count": null,
      "metadata": {
        "colab": {
          "base_uri": "https://localhost:8080/"
        },
        "id": "G37v-UsbrZXa",
        "outputId": "99272c2d-74d1-4a0d-8538-b7a5583ea04b"
      },
      "outputs": [
        {
          "data": {
            "text/plain": [
              "[[45, 99, 34, 55], [45, 99, 34, 55], [45, 99, 34, 55]]"
            ]
          },
          "execution_count": 142,
          "metadata": {},
          "output_type": "execute_result"
        }
      ],
      "source": [
        "origilist = [45, 76, 34, 55]\n",
        "newlist = [origilist]*3\n",
        "\n",
        "origilist[1] = 99\n",
        "\n",
        "newlist"
      ]
    },
    {
      "cell_type": "code",
      "execution_count": null,
      "metadata": {
        "colab": {
          "base_uri": "https://localhost:8080/"
        },
        "id": "bp5JSpSbsa1m",
        "outputId": "211a4ea0-527f-4b4d-c31a-d72f300abfb5"
      },
      "outputs": [
        {
          "data": {
            "text/plain": [
              "True"
            ]
          },
          "execution_count": 2,
          "metadata": {},
          "output_type": "execute_result"
        }
      ],
      "source": [
        "lista1 = [\"carro\", \"ônibus\", \"barco\", \"bicicleta\"]\n",
        "lista2 = [\"carro\", \"ônibus\", \"barco\", \"bicicleta\"]\n",
        "lista3 = [\"carro\", \"barco\"]\n",
        "lista2 is lista2"
      ]
    },
    {
      "cell_type": "code",
      "execution_count": null,
      "metadata": {
        "colab": {
          "base_uri": "https://localhost:8080/",
          "height": 130
        },
        "id": "JpzIdbINjFEW",
        "outputId": "bd8fefe3-a071-4a95-f4ae-839f9555516b"
      },
      "outputs": [
        {
          "ename": "SyntaxError",
          "evalue": "ignored",
          "output_type": "error",
          "traceback": [
            "\u001b[0;36m  File \u001b[0;32m\"<ipython-input-3-c69068bc8c99>\"\u001b[0;36m, line \u001b[0;32m1\u001b[0m\n\u001b[0;31m    a = int(input(“Entre com o primeiro número:”))\u001b[0m\n\u001b[0m                       ^\u001b[0m\n\u001b[0;31mSyntaxError\u001b[0m\u001b[0;31m:\u001b[0m invalid character in identifier\n"
          ]
        }
      ],
      "source": [
        "a = int(input(“Enúmero:”))\n",
        "b = input(“Entre com o segundo número:”))\n",
        "c = input(“Entre com o terceiro número:”))\n",
        "if a>b:\n",
        "    while b<a:\n",
        "      b = b+1\n",
        "else:\n",
        "  b = a+c\n",
        "print (b)"
      ]
    }
  ],
  "metadata": {
    "colab": {
      "collapsed_sections": [],
      "name": "EstudoPython",
      "provenance": [],
      "authorship_tag": "ABX9TyMWm2aL02Lj4cP6YqZHYpsB",
      "include_colab_link": true
    },
    "kernelspec": {
      "display_name": "Python 3",
      "name": "python3"
    },
    "language_info": {
      "name": "python"
    }
  },
  "nbformat": 4,
  "nbformat_minor": 0
}